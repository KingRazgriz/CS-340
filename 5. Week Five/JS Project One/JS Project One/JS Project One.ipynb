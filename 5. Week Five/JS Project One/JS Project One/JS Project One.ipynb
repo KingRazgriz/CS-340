{
 "cells": [
  {
   "cell_type": "code",
   "execution_count": 4,
   "id": "f989f279",
   "metadata": {},
   "outputs": [
    {
     "name": "stdout",
     "output_type": "stream",
     "text": [
      "=== CRUD TESTING ===\n",
      "\n",
      "[CREATE] Adding test animal...\n",
      "Success: True\n",
      "\n",
      "[READ] Fetching test animal...\n",
      "{'_id': ObjectId('6844bc77f7fb02e1dbfb1130'), 'animal_id': 'German Shepherd', 'animal_type': 'Dog', 'breed': 'German Shepherd Mix', 'color': 'Brown/Black', 'date_of_birth': '2020-06-03', 'outcome_type': 'Adoption'}\n",
      "\n",
      "[UPDATE] Modifying dog colors...\n",
      "Documents updated: 1\n",
      "\n",
      "Updated document color: Black/Brown/Tan\n",
      "\n",
      "[DELETE] Safety check:\n",
      "Documents deleted: 1\n",
      "\n",
      "=== TEST COMPLETE ===\n"
     ]
    }
   ],
   "source": [
    "from test_crud_operations import AnimalShelter\n",
    "\n",
    "# Connection details\n",
    "MONGO_HOST = 'nv-desktop-services.apporto.com'\n",
    "MONGO_PORT = 33567\n",
    "MONGO_USER = 'aacuser'\n",
    "MONGO_PASS = 'SAMPSONSNHUCS340'\n",
    "DB = 'AAC'\n",
    "COLLECTION = 'animals'\n",
    "\n",
    "# Initialize connection\n",
    "shelter = AnimalShelter(MONGO_USER, MONGO_PASS, MONGO_HOST, MONGO_PORT, DB, COLLECTION)\n",
    "\n",
    "# Test document with unique ID\n",
    "test_animal = {\n",
    "    \"animal_id\": \"German Shepherd\",\n",
    "    \"animal_type\": \"Dog\",\n",
    "    \"breed\": \"German Shepherd Mix\",\n",
    "    \"color\": \"Brown/Black\",\n",
    "    \"date_of_birth\": \"2020-06-03\",\n",
    "    \"outcome_type\": \"Adoption\"\n",
    "}\n",
    "\n",
    "print(\"=== CRUD TESTING ===\")\n",
    "\n",
    "# CREATE.\n",
    "print(\"\\n[CREATE] Adding test animal...\")\n",
    "create_result = shelter.create(test_animal)\n",
    "print(\"Success:\", create_result)\n",
    "\n",
    "# READ.\n",
    "print(\"\\n[READ] Fetching test animal...\")\n",
    "# Fixed variable name from 'dogs' to 'animal'\n",
    "animal = shelter.read({\"animal_id\": \"German Shepherd\"})\n",
    "if animal:  # Check if document was found\n",
    "    print(animal[0])\n",
    "else:\n",
    "    print(\"Animal not found\")\n",
    "\n",
    "# UPDATE.\n",
    "print(\"\\n[UPDATE] Modifying dog colors...\")\n",
    "update_result = shelter.update(\n",
    "    {\"animal_id\": \"German Shepherd\"}, \n",
    "    {\"color\": \"Black/Brown/Tan\"}\n",
    ")\n",
    "print(\"Documents updated:\", update_result)\n",
    "\n",
    "# Verify update.\n",
    "updated_doc = shelter.read({\"animal_id\": \"German Shepherd\"})\n",
    "if updated_doc:  # Check if document exists\n",
    "    print(\"\\nUpdated document color:\", updated_doc[0][\"color\"])\n",
    "else:\n",
    "    print(\"\\nDocument not found after update\")\n",
    "\n",
    "# DELETE.\n",
    "print(\"\\n[DELETE] Safety check:\")\n",
    "delete_result = shelter.delete({\"animal_id\": \"German Shepherd\"})\n",
    "print(\"Documents deleted:\", delete_result)\n",
    "\n",
    "print(\"\\n=== TEST COMPLETE ===\")"
   ]
  },
  {
   "cell_type": "code",
   "execution_count": null,
   "id": "c9f5f15d",
   "metadata": {},
   "outputs": [],
   "source": []
  }
 ],
 "metadata": {
  "kernelspec": {
   "display_name": "Python 3 (ipykernel)",
   "language": "python",
   "name": "python3"
  },
  "language_info": {
   "codemirror_mode": {
    "name": "ipython",
    "version": 3
   },
   "file_extension": ".py",
   "mimetype": "text/x-python",
   "name": "python",
   "nbconvert_exporter": "python",
   "pygments_lexer": "ipython3",
   "version": "3.9.12"
  }
 },
 "nbformat": 4,
 "nbformat_minor": 5
}
